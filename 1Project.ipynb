{
 "cells": [
  {
   "cell_type": "markdown",
   "id": "92276268",
   "metadata": {},
   "source": [
    "## MAking a Question and Answer test"
   ]
  },
  {
   "cell_type": "code",
   "execution_count": null,
   "id": "4a2c96ae",
   "metadata": {},
   "outputs": [],
   "source": [
    "print(\"Welcome to the game of Challenge\")"
   ]
  },
  {
   "cell_type": "code",
   "execution_count": 26,
   "id": "2eaccbd7",
   "metadata": {},
   "outputs": [
    {
     "name": "stdout",
     "output_type": "stream",
     "text": [
      "Do you want to enter to the challenge? y\n",
      "let's start the game.\n"
     ]
    }
   ],
   "source": [
    "paying = input(\"Do you want to enter to the challenge? \")\n",
    "\n",
    "if paying.lower() == 'yes' or paying.lower() == \"y\":\n",
    "    print(\"let's start the game.\")\n",
    "else:\n",
    "    quit()"
   ]
  },
  {
   "cell_type": "code",
   "execution_count": 27,
   "id": "6cfd05d0",
   "metadata": {},
   "outputs": [],
   "source": [
    "score = 0"
   ]
  },
  {
   "cell_type": "code",
   "execution_count": 28,
   "id": "84c77790",
   "metadata": {},
   "outputs": [
    {
     "name": "stdout",
     "output_type": "stream",
     "text": [
      "What is the color of the sky on a clear day? blue\\\n",
      "TRY ON NEXT QUESTIONS\n"
     ]
    }
   ],
   "source": [
    "answer = input(\"What is the color of the sky on a clear day? \")\n",
    "\n",
    "if answer.lower() == \"blue\":\n",
    "    print(\"current answer\")\n",
    "    score += 1\n",
    "else:\n",
    "    text = \"try on next questions\"\n",
    "    print(text.upper())"
   ]
  },
  {
   "cell_type": "code",
   "execution_count": 29,
   "id": "6810fffa",
   "metadata": {},
   "outputs": [
    {
     "name": "stdout",
     "output_type": "stream",
     "text": [
      "What do bees produce? honey\n",
      "current answer\n"
     ]
    }
   ],
   "source": [
    "answer = input(\"What do bees produce? \")\n",
    "\n",
    "if answer.lower() == \"honey\":\n",
    "    print(\"current answer\")\n",
    "    score += 1\n",
    "else:\n",
    "    print(\"try on next questions\".upper())"
   ]
  },
  {
   "cell_type": "code",
   "execution_count": 30,
   "id": "be825b12",
   "metadata": {},
   "outputs": [
    {
     "name": "stdout",
     "output_type": "stream",
     "text": [
      "What is the primary gas in Earth's atmosphere? nitrogen\n",
      "current answer\n"
     ]
    }
   ],
   "source": [
    "answer = input(\"What is the primary gas in Earth's atmosphere? \")\n",
    "\n",
    "if answer.lower() == \"nitrogen\":\n",
    "    print(\"current answer\")\n",
    "    score += 1\n",
    "else:\n",
    "    print(\"try on next questions\".upper())"
   ]
  },
  {
   "cell_type": "code",
   "execution_count": 31,
   "id": "a4717f27",
   "metadata": {},
   "outputs": [
    {
     "name": "stdout",
     "output_type": "stream",
     "text": [
      "What device is used to measure temperature? ss\n",
      "TRY ON NEXT QUESTIONS\n"
     ]
    }
   ],
   "source": [
    "answer = input(\"What device is used to measure temperature? \")\n",
    "\n",
    "if answer.lower() == \"thermometer\":\n",
    "    print(\"current answer\")\n",
    "    score += 1\n",
    "else:\n",
    "    print(\"try on next questions\".upper())"
   ]
  },
  {
   "cell_type": "code",
   "execution_count": 32,
   "id": "092390b2",
   "metadata": {},
   "outputs": [
    {
     "name": "stdout",
     "output_type": "stream",
     "text": [
      "your total score is 2 out of 4\n"
     ]
    }
   ],
   "source": [
    "print(\"your total score is \"+str(score)+\" out of 4\")"
   ]
  },
  {
   "cell_type": "code",
   "execution_count": 34,
   "id": "a3d8f06e",
   "metadata": {},
   "outputs": [
    {
     "name": "stdout",
     "output_type": "stream",
     "text": [
      "you total Percentage is 50.0%\n"
     ]
    }
   ],
   "source": [
    "print(\"you total Percentage is \"+str(score/4 * 100)+\"%\")"
   ]
  },
  {
   "cell_type": "code",
   "execution_count": null,
   "id": "9b91644f",
   "metadata": {},
   "outputs": [],
   "source": []
  }
 ],
 "metadata": {
  "kernelspec": {
   "display_name": "Python 3 (ipykernel)",
   "language": "python",
   "name": "python3"
  },
  "language_info": {
   "codemirror_mode": {
    "name": "ipython",
    "version": 3
   },
   "file_extension": ".py",
   "mimetype": "text/x-python",
   "name": "python",
   "nbconvert_exporter": "python",
   "pygments_lexer": "ipython3",
   "version": "3.11.7"
  }
 },
 "nbformat": 4,
 "nbformat_minor": 5
}
